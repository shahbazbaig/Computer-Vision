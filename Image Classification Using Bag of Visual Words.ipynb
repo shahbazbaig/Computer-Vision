{
  "nbformat": 4,
  "nbformat_minor": 5,
  "metadata": {
    "kernelspec": {
      "display_name": "Python 3",
      "language": "python",
      "name": "python3"
    },
    "language_info": {
      "codemirror_mode": {
        "name": "ipython",
        "version": 3
      },
      "file_extension": ".py",
      "mimetype": "text/x-python",
      "name": "python",
      "nbconvert_exporter": "python",
      "pygments_lexer": "ipython3",
      "version": "3.7.0"
    },
    "colab": {
      "name": "Task2.ipynb",
      "provenance": [],
      "collapsed_sections": [],
      "toc_visible": true
    }
  },
  "cells": [
    {
      "cell_type": "markdown",
      "metadata": {
        "id": "76n8DH6-c8xB"
      },
      "source": [
        "## Table of Contents\n",
        "\n",
        "1. [Installation](#install)\n",
        "2. [Imports](#imports)\n",
        "3. [Bag of Visual Words](#bovw)\n",
        "    1. [Bag of Visual Words Utils](#bovw_util)\n",
        "    2. [Training and Data Prepration](#bovw_train)\n",
        "    3. [Testing and Data Prepration](#bovw_test)\n"
      ],
      "id": "76n8DH6-c8xB"
    },
    {
      "cell_type": "markdown",
      "metadata": {
        "id": "0YD13ISCc8xI"
      },
      "source": [
        "## Installation <a name=\"install\"></a>"
      ],
      "id": "0YD13ISCc8xI"
    },
    {
      "cell_type": "code",
      "metadata": {
        "scrolled": true,
        "colab": {
          "base_uri": "https://localhost:8080/"
        },
        "id": "BY4YjmwJc8xJ",
        "outputId": "23d3663a-dab9-4ed4-c79c-0055bd0674c7"
      },
      "source": [
        "! pip uninstall opencv-python -y\n",
        "! pip uninstall opencv-contrib-python -y\n",
        "! pip install opencv-python==3.4.11.45\n",
        "! pip install opencv-contrib-python==3.4.11.45\n",
        "! pip install tqdm\n",
        "! pip install split-folders"
      ],
      "id": "BY4YjmwJc8xJ",
      "execution_count": 5,
      "outputs": [
        {
          "output_type": "stream",
          "name": "stdout",
          "text": [
            "Found existing installation: opencv-python 3.4.11.45\n",
            "Uninstalling opencv-python-3.4.11.45:\n",
            "  Successfully uninstalled opencv-python-3.4.11.45\n",
            "Found existing installation: opencv-contrib-python 3.4.11.45\n",
            "Uninstalling opencv-contrib-python-3.4.11.45:\n",
            "  Successfully uninstalled opencv-contrib-python-3.4.11.45\n",
            "Collecting opencv-python==3.4.11.45\n",
            "  Using cached opencv_python-3.4.11.45-cp37-cp37m-manylinux2014_x86_64.whl (49.1 MB)\n",
            "Requirement already satisfied: numpy>=1.14.5 in /usr/local/lib/python3.7/dist-packages (from opencv-python==3.4.11.45) (1.19.5)\n",
            "Installing collected packages: opencv-python\n",
            "\u001b[31mERROR: pip's dependency resolver does not currently take into account all the packages that are installed. This behaviour is the source of the following dependency conflicts.\n",
            "albumentations 0.1.12 requires imgaug<0.2.7,>=0.2.5, but you have imgaug 0.2.9 which is incompatible.\u001b[0m\n",
            "Successfully installed opencv-python-3.4.11.45\n",
            "Collecting opencv-contrib-python==3.4.11.45\n",
            "  Using cached opencv_contrib_python-3.4.11.45-cp37-cp37m-manylinux2014_x86_64.whl (54.7 MB)\n",
            "Requirement already satisfied: numpy>=1.14.5 in /usr/local/lib/python3.7/dist-packages (from opencv-contrib-python==3.4.11.45) (1.19.5)\n",
            "Installing collected packages: opencv-contrib-python\n",
            "Successfully installed opencv-contrib-python-3.4.11.45\n",
            "Requirement already satisfied: tqdm in /usr/local/lib/python3.7/dist-packages (4.62.3)\n",
            "Requirement already satisfied: split-folders in /usr/local/lib/python3.7/dist-packages (0.4.3)\n",
            "\u001b[31mERROR: Could not find a version that satisfies the requirement glob (from versions: none)\u001b[0m\n",
            "\u001b[31mERROR: No matching distribution found for glob\u001b[0m\n"
          ]
        }
      ]
    },
    {
      "cell_type": "markdown",
      "metadata": {
        "id": "0miFz0Vbc8xf"
      },
      "source": [
        "## Imports <a name=\"imports\"></a>"
      ],
      "id": "0miFz0Vbc8xf"
    },
    {
      "cell_type": "code",
      "metadata": {
        "id": "kZ45M-mvc8xf"
      },
      "source": [
        "import argparse\n",
        "import cv2\n",
        "import numpy as np \n",
        "import os\n",
        "from glob import glob\n",
        "import splitfolders\n",
        "import tensorflow as tf\n",
        "from sklearn.cluster import KMeans\n",
        "from sklearn.svm import SVC\n",
        "from sklearn.preprocessing import StandardScaler\n",
        "from matplotlib import pyplot as plt\n",
        "from sklearn import svm, datasets\n",
        "from sklearn.model_selection import train_test_split\n",
        "from sklearn.metrics import confusion_matrix\n",
        "from sklearn.utils.multiclass import unique_labels\n",
        "from sklearn.metrics.pairwise import chi2_kernel\n",
        "from sklearn.model_selection import GridSearchCV\n",
        "from sklearn.metrics import accuracy_score\n",
        "from sklearn.metrics import classification_report\n",
        "from tqdm import tqdm\n",
        "import time\n",
        "import warnings\n",
        "warnings.filterwarnings('ignore')"
      ],
      "id": "kZ45M-mvc8xf",
      "execution_count": 8,
      "outputs": []
    },
    {
      "cell_type": "code",
      "metadata": {
        "colab": {
          "base_uri": "https://localhost:8080/",
          "height": 52
        },
        "id": "ZrE5R2PTecqO",
        "outputId": "6ae6b99d-a547-4be0-9729-1beb1dbf4cfe"
      },
      "source": [
        "from google.colab import drive\n",
        "drive.mount('/content/drive/')\n",
        "os.chdir('/content/drive/MyDrive/Colab Notebooks/')\n",
        "os.getcwd()"
      ],
      "id": "ZrE5R2PTecqO",
      "execution_count": 9,
      "outputs": [
        {
          "output_type": "stream",
          "name": "stdout",
          "text": [
            "Drive already mounted at /content/drive/; to attempt to forcibly remount, call drive.mount(\"/content/drive/\", force_remount=True).\n"
          ]
        },
        {
          "output_type": "execute_result",
          "data": {
            "application/vnd.google.colaboratory.intrinsic+json": {
              "type": "string"
            },
            "text/plain": [
              "'/content/drive/MyDrive/Colab Notebooks'"
            ]
          },
          "metadata": {},
          "execution_count": 9
        }
      ]
    },
    {
      "cell_type": "code",
      "metadata": {
        "id": "Bv-FD2d32HAb"
      },
      "source": [
        "# Extract data folder\n",
        "# import shutil\n",
        "# os.mkdir('Task2_data/A1/flower_photos')\n",
        "# shutil.unpack_archive('Task2_data/A1/flower_photos.zip', 'Task2_data/A1/')"
      ],
      "id": "Bv-FD2d32HAb",
      "execution_count": null,
      "outputs": []
    },
    {
      "cell_type": "code",
      "metadata": {
        "id": "WwDGVpuQ5fdK"
      },
      "source": [
        "# check if files are extracted successfully\n",
        "# files = glob('Task1_data/INRIA_Dataset/Test/neg/*.*')\n",
        "# print(len(files))"
      ],
      "id": "WwDGVpuQ5fdK",
      "execution_count": null,
      "outputs": []
    },
    {
      "cell_type": "markdown",
      "metadata": {
        "id": "WBv4bpHYc8xh"
      },
      "source": [
        "## Util Functions"
      ],
      "id": "WBv4bpHYc8xh"
    },
    {
      "cell_type": "code",
      "metadata": {
        "id": "5-uRr6rec8xi"
      },
      "source": [
        "def show(img):\n",
        "    io.imshow(img)\n",
        "    plt.show()"
      ],
      "id": "5-uRr6rec8xi",
      "execution_count": 37,
      "outputs": []
    },
    {
      "cell_type": "markdown",
      "metadata": {
        "id": "v6iR3EU7c8xk"
      },
      "source": [
        "### Bag of Visual Words Utils <a name=\"bovw_util\"></a>"
      ],
      "id": "v6iR3EU7c8xk"
    },
    {
      "cell_type": "code",
      "metadata": {
        "id": "2nanYC80c8xl"
      },
      "source": [
        "def getFiles(train, path):\n",
        "    images = []\n",
        "    count = 0\n",
        "    for folder in os.listdir(path):\n",
        "        for file in  os.listdir(os.path.join(path, folder)):\n",
        "            images.append(os.path.join(path, os.path.join(folder, file)))\n",
        "\n",
        "    if(train is True):\n",
        "        np.random.shuffle(images)\n",
        "    \n",
        "    return images\n",
        "\n",
        "def getDescriptors(sift, img):\n",
        "    kp, des = sift.detectAndCompute(img, None)\n",
        "    return des\n",
        "\n",
        "def readImage(img_path):\n",
        "    img = cv2.imread(img_path, 0)\n",
        "    return cv2.resize(img,(150,150))\n",
        "\n",
        "def vstackDescriptors(descriptor_list):\n",
        "    descriptors = np.array(descriptor_list[0])\n",
        "    for descriptor in descriptor_list[1:]:\n",
        "        descriptors = np.vstack((descriptors, descriptor)) \n",
        "\n",
        "    return descriptors\n",
        "\n",
        "def clusterDescriptors(descriptors, no_clusters):\n",
        "    kmeans = KMeans(n_clusters = no_clusters).fit(descriptors)\n",
        "    return kmeans\n",
        "\n",
        "def extractFeatures(kmeans, descriptor_list, image_count, no_clusters):\n",
        "    im_features = np.array([np.zeros(no_clusters) for i in range(image_count)])\n",
        "    for i in range(image_count):\n",
        "        for j in range(len(descriptor_list[i])):\n",
        "            feature = descriptor_list[i][j]\n",
        "            feature = feature.reshape(1, 128)\n",
        "            idx = kmeans.predict(feature)\n",
        "            im_features[i][idx] += 1\n",
        "\n",
        "    return im_features\n",
        "\n",
        "def normalizeFeatures(scale, features):\n",
        "    return scale.transform(features)\n",
        "\n",
        "def plotHistogram(im_features, no_clusters):\n",
        "    x_scalar = np.arange(no_clusters)\n",
        "    y_scalar = np.array([abs(np.sum(im_features[:,h], dtype=np.int32)) for h in range(no_clusters)])\n",
        "\n",
        "    plt.bar(x_scalar, y_scalar)\n",
        "    plt.xlabel(\"Visual Word Index\")\n",
        "    plt.ylabel(\"Frequency\")\n",
        "    plt.title(\"Complete Vocabulary Generated\")\n",
        "    plt.xticks(x_scalar + 0.4, x_scalar)\n",
        "    plt.show()\n",
        "\n",
        "def svcParamSelection(X, y, kernel, nfolds):\n",
        "    Cs = [0.5, 0.1, 0.15, 0.2, 0.3]\n",
        "    gammas = [0.1, 0.11, 0.095, 0.105]\n",
        "    param_grid = {'C': Cs, 'gamma' : gammas}\n",
        "    grid_search = GridSearchCV(SVC(kernel=kernel), param_grid, cv=nfolds)\n",
        "    grid_search.fit(X, y)\n",
        "    grid_search.best_params_\n",
        "    return grid_search.best_params_\n",
        "\n",
        "def findSVM(im_features, train_labels, kernel):\n",
        "    features = im_features\n",
        "    if(kernel == \"precomputed\"):\n",
        "      features = np.dot(im_features, im_features.T)\n",
        "    \n",
        "    params = svcParamSelection(features, train_labels, kernel, 5)\n",
        "    C_param, gamma_param = params.get(\"C\"), params.get(\"gamma\")\n",
        "    print(C_param, gamma_param)\n",
        "    class_weight = {\n",
        "        0: (56 / (4 * 14)),\n",
        "        1: (56 / (4 * 14)),\n",
        "        2: (56 / (4 * 14)),\n",
        "        3: (56 / (4 * 14))\n",
        "    }\n",
        "  \n",
        "    svm = SVC(kernel = kernel, C =  C_param, gamma = gamma_param, class_weight = class_weight)\n",
        "    svm.fit(features, train_labels)\n",
        "    return svm\n",
        "\n",
        "def plotConfusionMatrix(y_true, y_pred, classes,\n",
        "                          normalize=False,\n",
        "                          title=None,\n",
        "                          cmap=plt.cm.Blues):\n",
        "    # if not title:\n",
        "    #     if normalize:\n",
        "    #         title = 'Normalized confusion matrix'\n",
        "    #     else:\n",
        "    #         title = 'Confusion matrix, without normalization'\n",
        "\n",
        "    cm = confusion_matrix(y_true, y_pred)\n",
        "    if normalize:\n",
        "        cm = cm.astype('float') / cm.sum(axis=1)[:, np.newaxis]\n",
        "        print(\"Normalized confusion matrix\")\n",
        "    else:\n",
        "        print('Confusion matrix, without normalization')\n",
        "\n",
        "    # print(cm)\n",
        "\n",
        "    fig, ax = plt.subplots()\n",
        "    im = ax.imshow(cm, interpolation='nearest', cmap=cmap)\n",
        "    ax.figure.colorbar(im, ax=ax)\n",
        "    ax.set(xticks=np.arange(cm.shape[1]),\n",
        "           yticks=np.arange(cm.shape[0]),\n",
        "           xticklabels=classes, yticklabels=classes,\n",
        "           title=title,\n",
        "           ylabel='True label',\n",
        "           xlabel='Predicted label')\n",
        "\n",
        "    plt.setp(ax.get_xticklabels(), rotation=45, ha=\"right\",\n",
        "             rotation_mode=\"anchor\")\n",
        "\n",
        "    fmt = '.2f' if normalize else 'd'\n",
        "    thresh = cm.max() / 2.\n",
        "    for i in range(cm.shape[0]):\n",
        "        for j in range(cm.shape[1]):\n",
        "            ax.text(j, i, format(cm[i, j], fmt),\n",
        "                    ha=\"center\", va=\"center\",\n",
        "                    color=\"white\" if cm[i, j] > thresh else \"black\")\n",
        "    fig.tight_layout()\n",
        "    return ax\n",
        "\n",
        "def plotConfusions(true, predictions):\n",
        "    np.set_printoptions(precision=2)\n",
        "\n",
        "    class_names = [\"accordion\", \"dollar_bill\", \"motorbike\", \"soccer_ball\"]\n",
        "    plotConfusionMatrix(true, predictions, classes=class_names,\n",
        "                      title='Confusion matrix, without normalization')\n",
        "    plotConfusionMatrix(true, predictions, classes=class_names, normalize=True,\n",
        "                      title='Normalized confusion matrix')\n",
        "    plt.show()\n",
        "    \n",
        "    \n",
        "\n",
        "def findAccuracy(true, predictions):\n",
        "    print('accuracy score: %0.3f' % accuracy_score(true, predictions))\n",
        "\n",
        "def report(true, predictions):\n",
        "    print(classification_report(true, predictions))\n",
        "    FNR = TPR = 0.0\n",
        "    print(\"\\n\")\n",
        "    cm = confusion_matrix(true, predictions)\n",
        "    FP = cm.sum(axis=0) - np.diag(cm)  \n",
        "    FN = cm.sum(axis=1) - np.diag(cm)\n",
        "    TP = np.diag(cm)\n",
        "    TN = np.sum(cm) - (FP + FN + TP)\n",
        "    # False negative rate\n",
        "    # FNR = FN/(TP+FN)\n",
        "    # false positive rate\n",
        "    FPR = FP/(FP+TN)\n",
        "    # true positive rate\n",
        "    TPR = TP/(TP+FN)\n",
        "\n",
        "    print(\"True Positive Rate: \", TPR)\n",
        "    print(\"True Negative Rate: \", FPR)"
      ],
      "id": "2nanYC80c8xl",
      "execution_count": 38,
      "outputs": []
    },
    {
      "cell_type": "markdown",
      "metadata": {
        "id": "ixjz38nRc8xq"
      },
      "source": [
        "### Training and Data Prepration <a name=\"bovw_train\"></a>"
      ],
      "id": "ixjz38nRc8xq"
    },
    {
      "cell_type": "code",
      "metadata": {
        "id": "Dze8lp8ic8xq"
      },
      "source": [
        "def trainModel(path, no_clusters, kernel):\n",
        "    images = getFiles(True, path)\n",
        "    print(\"Train images path detected.\")\n",
        "    sift = cv2.xfeatures2d.SIFT_create()\n",
        "    descriptor_list = []\n",
        "    train_labels = np.array([])\n",
        "    label_count = 4\n",
        "    image_count = len(images)\n",
        "\n",
        "    for img_path in images:\n",
        "        if(\"accordion\" in img_path):\n",
        "            class_index = 0\n",
        "        elif(\"dollar_bill\" in img_path):\n",
        "            class_index = 1\n",
        "        elif(\"motorbike\" in img_path):\n",
        "            class_index = 2\n",
        "        else:\n",
        "          class_index = 3\n",
        "        #print(train_labels, class_index)\n",
        "        train_labels = np.append(train_labels, class_index)\n",
        "        img = readImage(img_path)\n",
        "        des = getDescriptors(sift, img)\n",
        "        descriptor_list.append(des)\n",
        "\n",
        "    descriptors = vstackDescriptors(descriptor_list)\n",
        "    print(\"Descriptors vstacked.\")\n",
        "\n",
        "    kmeans = clusterDescriptors(descriptors, no_clusters)\n",
        "    print(\"Descriptors clustered.\")\n",
        "\n",
        "    im_features = extractFeatures(kmeans, descriptor_list, image_count, no_clusters)\n",
        "    print(\"Images features extracted.\")\n",
        "\n",
        "    scale = StandardScaler().fit(im_features)        \n",
        "    im_features = scale.transform(im_features)\n",
        "    print(\"Train images normalized.\")\n",
        "\n",
        "    plotHistogram(im_features, no_clusters)\n",
        "    print(\"Features histogram plotted.\")\n",
        "    \n",
        "    svm = findSVM(im_features, train_labels, kernel)\n",
        "    print(\"SVM fitted.\")\n",
        "    print(\"Training completed.\")\n",
        "\n",
        "    return kmeans, scale, svm, im_features"
      ],
      "id": "Dze8lp8ic8xq",
      "execution_count": 39,
      "outputs": []
    },
    {
      "cell_type": "code",
      "metadata": {
        "colab": {
          "base_uri": "https://localhost:8080/",
          "height": 465
        },
        "id": "xHE4vgyYc8xr",
        "outputId": "98579459-7c36-4937-a5dd-e11b640a1354"
      },
      "source": [
        "# train_path = \"inputs/dataset/train\"\n",
        "# test_path = \"inputs/dataset/test\"\n",
        "\n",
        "train_path = \"Task2_data/A1/Objects_Dataset_Images/train\"\n",
        "test_path = \"Task2_data/A1/Objects_Dataset_Images/test\"\n",
        "no_clusters = 150\n",
        "kernel = \"precomputed\"\n",
        "\n",
        "start_time = time.time()\n",
        "kmeans, scale, svm, im_features = trainModel(train_path, no_clusters, kernel)\n",
        "print(\"--- %s seconds ---\" % (time.time() - start_time))\n"
      ],
      "id": "xHE4vgyYc8xr",
      "execution_count": 43,
      "outputs": [
        {
          "output_type": "stream",
          "name": "stdout",
          "text": [
            "Train images path detected.\n",
            "Descriptors vstacked.\n",
            "Descriptors clustered.\n",
            "Images features extracted.\n",
            "Train images normalized.\n"
          ]
        },
        {
          "output_type": "display_data",
          "data": {
            "image/png": "[encoded data removed]",
            "text/plain": [
              "<Figure size 432x288 with 1 Axes>"
            ]
          },
          "metadata": {
            "needs_background": "light"
          }
        },
        {
          "output_type": "stream",
          "name": "stdout",
          "text": [
            "Features histogram plotted.\n",
            "0.5 0.1\n",
            "SVM fitted.\n",
            "Training completed.\n",
            "--- 38.54574918746948 seconds ---\n"
          ]
        }
      ]
    },
    {
      "cell_type": "markdown",
      "metadata": {
        "id": "TtrXucBTc8xs"
      },
      "source": [
        "### Testing and Data Prepration <a name=\"bovw_test\"></a>"
      ],
      "id": "TtrXucBTc8xs"
    },
    {
      "cell_type": "code",
      "metadata": {
        "id": "ii9PEsHZc8xt"
      },
      "source": [
        "def testModel(path, kmeans, scale, svm, im_features, no_clusters, kernel):\n",
        "    test_images = getFiles(False, path)\n",
        "    print(\"Test images path detected.\")\n",
        "\n",
        "    count = 0\n",
        "    true = []\n",
        "    descriptor_list = []\n",
        "\n",
        "    name_dict =\t{\n",
        "        \"0\": \"accordion\",\n",
        "        \"1\": \"dollar_bill\",\n",
        "        \"2\": \"motorbike\",\n",
        "        \"3\": \"soccer_ball\"\n",
        "    }\n",
        "\n",
        "    sift = cv2.xfeatures2d.SIFT_create()\n",
        "\n",
        "    for img_path in test_images:\n",
        "        img = readImage(img_path)\n",
        "        des = getDescriptors(sift, img)\n",
        "\n",
        "        if(des is not None):\n",
        "            count += 1\n",
        "            descriptor_list.append(des)\n",
        "\n",
        "            if(\"accordion\" in img_path):\n",
        "                true.append(\"accordion\")\n",
        "            elif(\"dollar_bill\" in img_path):\n",
        "                true.append(\"dollar_bill\")\n",
        "            elif(\"motorbike\" in img_path):\n",
        "                true.append(\"motorbike\")\n",
        "            else:\n",
        "                true.append(\"soccer_ball\")\n",
        "\n",
        "    descriptors = vstackDescriptors(descriptor_list)\n",
        "\n",
        "    test_features = extractFeatures(kmeans, descriptor_list, count, no_clusters)\n",
        "\n",
        "    test_features = scale.transform(test_features)\n",
        "    \n",
        "    kernel_test = test_features\n",
        "    if(kernel == \"precomputed\"):\n",
        "        kernel_test = np.dot(test_features, im_features.T)\n",
        "    \n",
        "    predictions = [name_dict[str(int(i))] for i in svm.predict(kernel_test)]\n",
        "    print(\"Test images classified.\")\n",
        "\n",
        "    plotConfusions(true, predictions)\n",
        "    print(\"Confusion matrixes plotted.\")\n",
        "\n",
        "    findAccuracy(true, predictions)\n",
        "    print(\"Accuracy calculated.\")\n",
        "\n",
        "    report(true, predictions)\n",
        "    print(\"Accuracy report generated.\")\n",
        "    print(\"Execution done.\")"
      ],
      "id": "ii9PEsHZc8xt",
      "execution_count": 44,
      "outputs": []
    },
    {
      "cell_type": "code",
      "metadata": {
        "colab": {
          "base_uri": "https://localhost:8080/",
          "height": 1000
        },
        "id": "alT4Z7kqc8xu",
        "outputId": "a359177d-ec4f-4ed0-f92a-4a0a5e12ef20"
      },
      "source": [
        "start_time = time.time()\n",
        "testModel(test_path, kmeans, scale, svm, im_features, no_clusters, kernel)\n",
        "print(\"--- %s seconds ---\" % (time.time() - start_time))"
      ],
      "id": "alT4Z7kqc8xu",
      "execution_count": 45,
      "outputs": [
        {
          "output_type": "stream",
          "name": "stdout",
          "text": [
            "Test images path detected.\n",
            "Test images classified.\n",
            "Confusion matrix, without normalization\n",
            "Normalized confusion matrix\n"
          ]
        },
        {
          "output_type": "display_data",
          "data": {
            "image/png": "[encoded data removed]",
            "text/plain": [
              "<Figure size 432x288 with 2 Axes>"
            ]
          },
          "metadata": {
            "needs_background": "light"
          }
        },
        {
          "output_type": "display_data",
          "data": {
            "image/png": "[encoded data removed]",
            "text/plain": [
              "<Figure size 432x288 with 2 Axes>"
            ]
          },
          "metadata": {
            "needs_background": "light"
          }
        },
        {
          "output_type": "stream",
          "name": "stdout",
          "text": [
            "Confusion matrixes plotted.\n",
            "accuracy score: 0.750\n",
            "Accuracy calculated.\n",
            "              precision    recall  f1-score   support\n",
            "\n",
            "   accordion       0.00      0.00      0.00         0\n",
            " dollar_bill       1.00      1.00      1.00         2\n",
            "   motorbike       1.00      1.00      1.00         2\n",
            " soccer_ball       1.00      0.50      0.67         4\n",
            "\n",
            "    accuracy                           0.75         8\n",
            "   macro avg       0.75      0.62      0.67         8\n",
            "weighted avg       1.00      0.75      0.83         8\n",
            "\n",
            "\n",
            "\n",
            "True Positive Rate:  [nan 1.  1.  0.5]\n",
            "True Negative Rate:  [0.25 0.   0.   0.  ]\n",
            "Accuracy report generated.\n",
            "Execution done.\n",
            "--- 1.8057541847229004 seconds ---\n"
          ]
        }
      ]
    },
    {
      "cell_type": "markdown",
      "metadata": {
        "id": "mUaZOCLFuRh_"
      },
      "source": [
        "## **Flower Data Classification**"
      ],
      "id": "mUaZOCLFuRh_"
    },
    {
      "cell_type": "markdown",
      "metadata": {
        "id": "ekstGqOnEz1Y"
      },
      "source": [
        "**Split Data in Train and Test/Val**"
      ],
      "id": "ekstGqOnEz1Y"
    },
    {
      "cell_type": "code",
      "metadata": {
        "id": "AgNto85D9OAG"
      },
      "source": [
        "# run if splitting required\n",
        "# splitfolders.ratio(\"Task2_data/A1/flower_photos/\", output=\"Task2_data/A1/flower_photos_split/\",\n",
        "#                    seed=123, ratio=(.8, .2), group_prefix=None)"
      ],
      "id": "AgNto85D9OAG",
      "execution_count": 20,
      "outputs": []
    },
    {
      "cell_type": "markdown",
      "metadata": {
        "id": "jzu4sAYLFKAw"
      },
      "source": [
        "### BoVW Utils"
      ],
      "id": "jzu4sAYLFKAw"
    },
    {
      "cell_type": "code",
      "metadata": {
        "id": "deyj83H5FIMX"
      },
      "source": [
        "def getFiles(train, path):\n",
        "    images = []\n",
        "    count = 0\n",
        "    for folder in os.listdir(path):\n",
        "        for file in  os.listdir(os.path.join(path, folder)):\n",
        "            images.append(os.path.join(path, os.path.join(folder, file)))\n",
        "\n",
        "    if(train is True):\n",
        "        np.random.shuffle(images)\n",
        "    \n",
        "    return images\n",
        "\n",
        "def getDescriptors(sift, img):\n",
        "    kp, des = sift.detectAndCompute(img, None)\n",
        "    return des\n",
        "\n",
        "def readImage(img_path):\n",
        "    img = cv2.imread(img_path, 0)\n",
        "    return cv2.resize(img,(150,150))\n",
        "\n",
        "def vstackDescriptors(descriptor_list):\n",
        "    descriptors = np.array(descriptor_list[0])\n",
        "    for descriptor in descriptor_list[1:]:\n",
        "        descriptors = np.vstack((descriptors, descriptor)) \n",
        "\n",
        "    return descriptors\n",
        "\n",
        "def clusterDescriptors(descriptors, no_clusters):\n",
        "    kmeans = KMeans(n_clusters = no_clusters).fit(descriptors)\n",
        "    return kmeans\n",
        "\n",
        "def extractFeatures(kmeans, descriptor_list, image_count, no_clusters):\n",
        "    im_features = np.array([np.zeros(no_clusters) for i in range(image_count)])\n",
        "    for i in range(image_count):\n",
        "        for j in range(len(descriptor_list[i])):\n",
        "            feature = descriptor_list[i][j]\n",
        "            feature = feature.reshape(1, 128)\n",
        "            idx = kmeans.predict(feature)\n",
        "            im_features[i][idx] += 1\n",
        "\n",
        "    return im_features\n",
        "\n",
        "def normalizeFeatures(scale, features):\n",
        "    return scale.transform(features)\n",
        "\n",
        "def plotHistogram(im_features, no_clusters):\n",
        "    x_scalar = np.arange(no_clusters)\n",
        "    y_scalar = np.array([abs(np.sum(im_features[:,h], dtype=np.int32)) for h in range(no_clusters)])\n",
        "\n",
        "    plt.bar(x_scalar, y_scalar)\n",
        "    plt.xlabel(\"Visual Word Index\")\n",
        "    plt.ylabel(\"Frequency\")\n",
        "    plt.title(\"Complete Vocabulary Generated\")\n",
        "    plt.xticks(x_scalar + 0.4, x_scalar)\n",
        "    plt.show()\n",
        "\n",
        "def svcParamSelection(X, y, kernel, nfolds):\n",
        "    Cs = [0.5, 0.1, 0.15, 0.2, 0.3]\n",
        "    gammas = [0.1, 0.11, 0.095, 0.105]\n",
        "    param_grid = {'C': Cs, 'gamma' : gammas}\n",
        "    grid_search = GridSearchCV(SVC(kernel=kernel), param_grid, cv=nfolds)\n",
        "    grid_search.fit(X, y)\n",
        "    grid_search.best_params_\n",
        "    return grid_search.best_params_\n",
        "\n",
        "def findSVM(im_features, train_labels, kernel):\n",
        "    features = im_features\n",
        "    if(kernel == \"precomputed\"):\n",
        "      features = np.dot(im_features, im_features.T)\n",
        "    \n",
        "    params = svcParamSelection(features, train_labels, kernel, 5)\n",
        "    C_param, gamma_param = params.get(\"C\"), params.get(\"gamma\")\n",
        "    print(C_param, gamma_param)\n",
        "    class_weight = {\n",
        "        0: (2934 / (5 * 639)),\n",
        "        1: (2934 / (5 * 559)),\n",
        "        2: (2934 / (5 * 512)),\n",
        "        3: (2934 / (5 * 718)),\n",
        "        4: (2934 / (5 * 506))\n",
        "    }\n",
        "\n",
        "    svm = SVC(kernel = kernel, C =  C_param, gamma = gamma_param, class_weight = class_weight)\n",
        "    svm.fit(features, train_labels)\n",
        "    return svm\n",
        "\n",
        "def plotConfusionMatrix(y_true, y_pred, classes,\n",
        "                          normalize=False,\n",
        "                          title=None,\n",
        "                          cmap=plt.cm.Blues):\n",
        "    if not title:\n",
        "        if normalize:\n",
        "            title = 'Normalized confusion matrix'\n",
        "        else:\n",
        "            title = 'Confusion matrix, without normalization'\n",
        "\n",
        "    cm = confusion_matrix(y_true, y_pred)\n",
        "    if normalize:\n",
        "        cm = cm.astype('float') / cm.sum(axis=1)[:, np.newaxis]\n",
        "        print(\"Normalized confusion matrix\")\n",
        "    else:\n",
        "        print('Confusion matrix, without normalization')\n",
        "\n",
        "    print(cm)\n",
        "\n",
        "    fig, ax = plt.subplots()\n",
        "    im = ax.imshow(cm, interpolation='nearest', cmap=cmap)\n",
        "    ax.figure.colorbar(im, ax=ax)\n",
        "    ax.set(xticks=np.arange(cm.shape[1]),\n",
        "           yticks=np.arange(cm.shape[0]),\n",
        "           xticklabels=classes, yticklabels=classes,\n",
        "           title=title,\n",
        "           ylabel='True label',\n",
        "           xlabel='Predicted label')\n",
        "\n",
        "    plt.setp(ax.get_xticklabels(), rotation=45, ha=\"right\",\n",
        "             rotation_mode=\"anchor\")\n",
        "\n",
        "    fmt = '.2f' if normalize else 'd'\n",
        "    thresh = cm.max() / 2.\n",
        "    for i in range(cm.shape[0]):\n",
        "        for j in range(cm.shape[1]):\n",
        "            ax.text(j, i, format(cm[i, j], fmt),\n",
        "                    ha=\"center\", va=\"center\",\n",
        "                    color=\"white\" if cm[i, j] > thresh else \"black\")\n",
        "    fig.tight_layout()\n",
        "    return ax\n",
        "\n",
        "def plotConfusions(true, predictions):\n",
        "    np.set_printoptions(precision=2)\n",
        "\n",
        "    class_names = [\"daisy\", \"dandelion\", \"roses\", \"sunflowers\", \"tulips\"]\n",
        "    plotConfusionMatrix(true, predictions, classes=class_names,\n",
        "                      title='Confusion matrix, without normalization')\n",
        "\n",
        "    plotConfusionMatrix(true, predictions, classes=class_names, normalize=True,\n",
        "                      title='Normalized confusion matrix')\n",
        "\n",
        "    plt.show()\n",
        "\n",
        "def findAccuracy(true, predictions):\n",
        "    print ('accuracy score: %0.3f' % accuracy_score(true, predictions))\n",
        "\n",
        "def report(true, predictions):\n",
        "    print (classification_report(true, predictions))"
      ],
      "id": "deyj83H5FIMX",
      "execution_count": 46,
      "outputs": []
    },
    {
      "cell_type": "code",
      "metadata": {
        "id": "TFg_yi1XF7K2"
      },
      "source": [
        "# count no. of images in each class\n",
        "# folder_path = 'Task2_data/A1/flower_photos_split/train/' \n",
        "# os.listdir(folder_path)\n",
        "# for f in os.listdir(folder_path):\n",
        "#   # print(folder_path+f)\n",
        "#   # files=folder_path+f+\"\"\n",
        "#   print(f, len(glob(folder_path+f+\"/*.jpg\")))"
      ],
      "id": "TFg_yi1XF7K2",
      "execution_count": 47,
      "outputs": []
    },
    {
      "cell_type": "markdown",
      "metadata": {
        "id": "t0J_MGYCLlQq"
      },
      "source": [
        "## Training and Data Prepration"
      ],
      "id": "t0J_MGYCLlQq"
    },
    {
      "cell_type": "code",
      "metadata": {
        "id": "xm_zk8Zm9rJO"
      },
      "source": [
        "\n",
        "def trainModel(path, no_clusters, kernel):\n",
        "    images = getFiles(True, path)\n",
        "    print(\"Train images path detected.\")\n",
        "    sift = cv2.xfeatures2d.SIFT_create()\n",
        "    descriptor_list = []\n",
        "    train_labels = np.array([])\n",
        "    label_count = 5\n",
        "    image_count = len(images)\n",
        "\n",
        "    for img_path in images:\n",
        "        if(\"daisy\" in img_path):\n",
        "            class_index = 0\n",
        "        elif(\"dandelion\" in img_path):\n",
        "            class_index = 1\n",
        "        elif(\"roses\" in img_path):\n",
        "            class_index = 2\n",
        "        elif(\"sunflowers\" in img_path):\n",
        "            class_index = 3\n",
        "        else:\n",
        "          class_index = 4\n",
        "        #print(train_labels, class_index)\n",
        "        train_labels = np.append(train_labels, class_index)\n",
        "        img = readImage(img_path)\n",
        "        des = getDescriptors(sift, img)\n",
        "        descriptor_list.append(des)\n",
        "\n",
        "    descriptors = vstackDescriptors(descriptor_list)\n",
        "    print(\"Descriptors vstacked.\")\n",
        "\n",
        "    kmeans = clusterDescriptors(descriptors, no_clusters)\n",
        "    print(\"Descriptors clustered.\")\n",
        "\n",
        "    im_features = extractFeatures(kmeans, descriptor_list, image_count, no_clusters)\n",
        "    print(\"Images features extracted.\")\n",
        "\n",
        "    scale = StandardScaler().fit(im_features)        \n",
        "    im_features = scale.transform(im_features)\n",
        "    print(\"Train images normalized.\")\n",
        "\n",
        "    plotHistogram(im_features, no_clusters)\n",
        "    print(\"Features histogram plotted.\")\n",
        "    \n",
        "    svm = findSVM(im_features, train_labels, kernel)\n",
        "    print(\"SVM fitted.\")\n",
        "    print(\"Training completed.\")\n",
        "\n",
        "    return kmeans, scale, svm, im_features"
      ],
      "id": "xm_zk8Zm9rJO",
      "execution_count": 48,
      "outputs": []
    },
    {
      "cell_type": "code",
      "metadata": {
        "colab": {
          "base_uri": "https://localhost:8080/"
        },
        "id": "0R9tZkGXHC_x",
        "outputId": "c3290b9b-5d95-4cdb-e4c5-52e00979b8fe"
      },
      "source": [
        "train_path = \"Task2_data/A1/flower_photos_split/train/\"\n",
        "test_path = \"Task2_data/A1/flower_photos_split/val/\"\n",
        "no_clusters = 250\n",
        "kernel = \"precomputed\"\n",
        "\n",
        "start_time = time.time()\n",
        "kmeans, scale, svm, im_features = trainModel(train_path, no_clusters, kernel)\n",
        "print(\"--- %s seconds ---\" % (time.time() - start_time))\n"
      ],
      "id": "0R9tZkGXHC_x",
      "execution_count": null,
      "outputs": [
        {
          "output_type": "stream",
          "name": "stdout",
          "text": [
            "Train images path detected.\n"
          ]
        }
      ]
    },
    {
      "cell_type": "code",
      "metadata": {
        "colab": {
          "base_uri": "https://localhost:8080/"
        },
        "id": "r-0goOCqd7Si",
        "outputId": "4f1f135e-2aa9-4e7a-a90d-5d3ed012af16"
      },
      "source": [
        "import joblib\n",
        "joblib.dump(kmeans, \"Task2_data/A1/flower_photos_split/model_250_clust.sav\")"
      ],
      "id": "r-0goOCqd7Si",
      "execution_count": null,
      "outputs": [
        {
          "output_type": "execute_result",
          "data": {
            "text/plain": [
              "['Task2_data/A1/flower_photos_split/model_250_clust.sav']"
            ]
          },
          "metadata": {},
          "execution_count": 60
        }
      ]
    },
    {
      "cell_type": "markdown",
      "metadata": {
        "id": "oS2qR8JUMran"
      },
      "source": [
        "### Training and Data preparation"
      ],
      "id": "oS2qR8JUMran"
    },
    {
      "cell_type": "code",
      "metadata": {
        "id": "e4wYfcgBMp6n"
      },
      "source": [
        "def testModel(path, kmeans, scale, svm, im_features, no_clusters, kernel):\n",
        "    test_images = getFiles(False, path)\n",
        "    print(\"Test images path detected.\")\n",
        "\n",
        "    count = 0\n",
        "    true = []\n",
        "    descriptor_list = []\n",
        "\n",
        "    name_dict =\t{\n",
        "        \"0\": \"daisy\",\n",
        "        \"1\": \"dandelion\",\n",
        "        \"2\": \"roses\",\n",
        "        \"3\": \"sunflowers\",\n",
        "        \"4\": \"tulips\"\n",
        "    }\n",
        "\n",
        "    sift = cv2.xfeatures2d.SIFT_create()\n",
        "\n",
        "    for img_path in test_images:\n",
        "        img = readImage(img_path)\n",
        "        des = getDescriptors(sift, img)\n",
        "\n",
        "        if(des is not None):\n",
        "            count += 1\n",
        "            descriptor_list.append(des)\n",
        "\n",
        "            if(\"daisy\" in img_path):\n",
        "                true.append(\"daisy\")\n",
        "            elif(\"dandelion\" in img_path):\n",
        "                true.append(\"dandelion\")\n",
        "            elif(\"roses\" in img_path):\n",
        "                true.append(\"roses\")\n",
        "            elif(\"sunflowers\" in img_path):\n",
        "                true.append(\"sunflowers\")\n",
        "            else:\n",
        "                true.append(\"tulips\")\n",
        "\n",
        "    descriptors = vstackDescriptors(descriptor_list)\n",
        "\n",
        "    test_features = extractFeatures(kmeans, descriptor_list, count, no_clusters)\n",
        "\n",
        "    test_features = scale.transform(test_features)\n",
        "    \n",
        "    kernel_test = test_features\n",
        "    if(kernel == \"precomputed\"):\n",
        "        kernel_test = np.dot(test_features, im_features.T)\n",
        "    \n",
        "    predictions = [name_dict[str(int(i))] for i in svm.predict(kernel_test)]\n",
        "    print(\"Test images classified.\")\n",
        "\n",
        "    plotConfusions(true, predictions)\n",
        "    print(\"Confusion matrixes plotted.\")\n",
        "\n",
        "    findAccuracy(true, predictions)\n",
        "    print(\"Accuracy calculated.\")\n",
        "\n",
        "    report(true, predictions)\n",
        "    print(\"Accuracy report generated.\")\n",
        "    print(\"Execution done.\")"
      ],
      "id": "e4wYfcgBMp6n",
      "execution_count": null,
      "outputs": []
    },
    {
      "cell_type": "code",
      "metadata": {
        "colab": {
          "base_uri": "https://localhost:8080/",
          "height": 1000
        },
        "id": "HJJSyc_3M5Br",
        "outputId": "5c759887-b8a2-40e0-b562-fd554e70bd87"
      },
      "source": [
        "start_time = time.time()\n",
        "testModel(test_path, kmeans, scale, svm, im_features, no_clusters, kernel)\n",
        "print(\"--- %s seconds ---\" % (time.time() - start_time))"
      ],
      "id": "HJJSyc_3M5Br",
      "execution_count": null,
      "outputs": [
        {
          "output_type": "stream",
          "name": "stdout",
          "text": [
            "Test images path detected.\n",
            "Test images classified.\n",
            "Confusion matrix, without normalization\n",
            "[[ 65  25   9  16  12]\n",
            " [ 13 123  14   9  21]\n",
            " [ 13  24  47  11  34]\n",
            " [ 16  19  16  69  20]\n",
            " [ 21  23  33  14  69]]\n",
            "Normalized confusion matrix\n",
            "[[0.51 0.2  0.07 0.13 0.09]\n",
            " [0.07 0.68 0.08 0.05 0.12]\n",
            " [0.1  0.19 0.36 0.09 0.26]\n",
            " [0.11 0.14 0.11 0.49 0.14]\n",
            " [0.13 0.14 0.21 0.09 0.43]]\n"
          ]
        },
        {
          "output_type": "display_data",
          "data": {
            "image/png": "[encoded data removed]",
            "text/plain": [
              "<Figure size 432x288 with 2 Axes>"
            ]
          },
          "metadata": {
            "needs_background": "light"
          }
        },
        {
          "output_type": "display_data",
          "data": {
            "image/png": "[encoded data removed]",
            "text/plain": [
              "<Figure size 432x288 with 2 Axes>"
            ]
          },
          "metadata": {
            "needs_background": "light"
          }
        },
        {
          "output_type": "stream",
          "name": "stdout",
          "text": [
            "Confusion matrixes plotted.\n",
            "accuracy score: 0.507\n",
            "Accuracy calculated.\n",
            "              precision    recall  f1-score   support\n",
            "\n",
            "       daisy       0.51      0.51      0.51       127\n",
            "   dandelion       0.57      0.68      0.62       180\n",
            "       roses       0.39      0.36      0.38       129\n",
            "  sunflowers       0.58      0.49      0.53       140\n",
            "      tulips       0.44      0.43      0.44       160\n",
            "\n",
            "    accuracy                           0.51       736\n",
            "   macro avg       0.50      0.50      0.50       736\n",
            "weighted avg       0.50      0.51      0.50       736\n",
            "\n",
            "Accuracy report generated.\n",
            "Execution done.\n",
            "--- 170.3429400920868 seconds ---\n"
          ]
        }
      ]
    },
    {
      "cell_type": "code",
      "metadata": {
        "id": "mTuf2_uAfLc6"
      },
      "source": [
        ""
      ],
      "id": "mTuf2_uAfLc6",
      "execution_count": null,
      "outputs": []
    }
  ]
}